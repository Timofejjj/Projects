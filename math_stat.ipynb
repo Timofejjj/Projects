{
  "cells": [
    {
      "cell_type": "markdown",
      "metadata": {
        "id": "view-in-github",
        "colab_type": "text"
      },
      "source": [
        "<a href=\"https://colab.research.google.com/github/Timofejjj/Projects/blob/main/math_stat.ipynb\" target=\"_parent\"><img src=\"https://colab.research.google.com/assets/colab-badge.svg\" alt=\"Open In Colab\"/></a>"
      ]
    },
    {
      "cell_type": "markdown",
      "source": [
        "# 03. Основы математической статистики: методы построения оценок"
      ],
      "metadata": {
        "id": "men4AXF1Hpxx"
      },
      "id": "men4AXF1Hpxx"
    },
    {
      "cell_type": "markdown",
      "id": "63f14fa4-3290-4de7-9331-d57918f5573c",
      "metadata": {
        "id": "63f14fa4-3290-4de7-9331-d57918f5573c"
      },
      "source": [
        "## Эмпирическая функция распределения\n",
        "\n",
        "Пусть из некоторого распределения нам на вход пришла случайная выборка\n",
        "$X = \\{x_1, \\ldots, x_n\\}$. Но какие условия налагаются на определение\n",
        "*случайная выборка*?\n",
        "\n",
        "Под случайной выборкой мы будем понимать множество\n",
        "значений, удовлетворяющее следующим условиям:\n",
        "\n",
        "1.  все элементы выборки -- случайные величины;\n",
        "\n",
        "2.  все элементы выборки могут быть выбраны равновероятно;\n",
        "\n",
        "3.  каждый элемент конкретной выборки получен в равных условиях.\n",
        "\n",
        "Таким образом, элементы выборки - это независимые, одинаково\n",
        "распределенные случайные величины.\\\n",
        "\\\n",
        "Например, используя пакет scipy, мы можем сгенерировать случайную\n",
        "выборку на 10 элементов из нормального распределения с параметрами\n",
        "$(0,1)$ на Python следующим образом:"
      ]
    },
    {
      "cell_type": "code",
      "execution_count": null,
      "id": "38c33688-a42c-4230-98ab-c5b41caf830c",
      "metadata": {
        "id": "38c33688-a42c-4230-98ab-c5b41caf830c",
        "outputId": "c4f327b0-1689-4e94-9bda-e9af8361efbc"
      },
      "outputs": [
        {
          "name": "stdout",
          "output_type": "stream",
          "text": [
            "[ 0.49671415 -0.1382643   0.64768854  1.52302986 -0.23415337 -0.23413696\n",
            "  1.57921282  0.76743473 -0.46947439  0.54256004]\n"
          ]
        }
      ],
      "source": [
        "\n",
        "from scipy.stats import norm\n",
        "\n",
        "n = 10\n",
        "\n",
        "norm_distribution = norm(0, 1)\n",
        "\n",
        "\n",
        "#random veriable sample - rvs\n",
        "# random_state=42 - начальный state\n",
        "random_sample = norm_distribution.rvs(n, random_state=42)\n",
        "print(random_sample)"
      ]
    },
    {
      "cell_type": "markdown",
      "id": "09db3603-e653-476e-b5d7-919a40868b2a",
      "metadata": {
        "id": "09db3603-e653-476e-b5d7-919a40868b2a"
      },
      "source": [
        "Итак, мы определили вид данных, которые поступают к нам на вход. На\n",
        "практике нам неизвестно распределение, из которого была получена\n",
        "случайная выборка. Поэтому по известным нам данным мы должны каким-то\n",
        "образом смоделировать исходное распределение.\n",
        "\n",
        "В теории вероятностей\n",
        "распределение случайных величин определяется *функцией распределения*\n",
        "случайной величины. Следовательно, нам нужно каким-то образом построить\n",
        "аналог функции распределения для нашего случая.\\\n",
        "\\\n",
        "Введем фиктивную случайную величину $\\xi$ такую, что\n",
        "$$\\mathbf P(\\xi= x_1) = \\ldots = \\mathbf P(\\xi= x_n) = \\frac{1}{n},$$\n",
        "то есть эта случайная величина равновероятно принимает любое из значений\n",
        "выборки. Тогда мы можем построить функцию распределения этой случайной\n",
        "величины\n",
        "$$F_\\xi(x) = \\mathbf P(\\xi\\leqslant x) = \\frac{1}{n} \\sum_{i=1}^{n} [x_i \\leqslant x] = \\frac{1}{n} \\sum_{i=1}^{n} \\mathbb I(x - x_i),$$\n",
        "где функция\n",
        "$$\\mathbb I(z) = \\begin{cases} 1,\\ z > 0,\\\\ 0,\\ z\\leqslant 0. \\end{cases}$$\n",
        "        называется *единичной функцией Хевисайда*.\\\n",
        "\\\n",
        "$\\bullet$ *Построенная функция распределения*\n",
        "\n",
        "$$F_n(x) =  \\frac{1}{n} \\sum_{i=1}^{n} \\mathbb I(x - x_i)$$\n",
        "*и будет\n",
        "являться **эмпирической функцией распределения** выборки.*"
      ]
    },
    {
      "cell_type": "markdown",
      "id": "43c4c92f-49df-45f9-bcfa-cf2da1103f9b",
      "metadata": {
        "id": "43c4c92f-49df-45f9-bcfa-cf2da1103f9b"
      },
      "source": [
        "Чтобы построить эту функцию на практике, вводится понятие *вариационного\n",
        "ряда*.\\\n",
        "\\\n",
        "$\\bullet$ ***Вариационным рядом** случайной выборки называется\n",
        "упорядоченная последовательность элементов выборки*\n",
        "$$x^{(1)} \\leqslant\\ldots \\leqslant x^{(n)},$$ *где\n",
        "$x^{(1)} = \\underset{x_1,\\ldots, x_{n}}{\\min} X$,\n",
        "$x^{(n)} = \\underset{x_1,\\ldots, x_{n}}{\\max} X$.*\\\n",
        "\\\n",
        "То есть, взяв исходную выборку $X = \\{x_1,\\ldots, x_n\\}$, мы\n",
        "упорядочиваем (сортируем) ее элементы по возрастанию. Тогда эмпирическую\n",
        "функцию распределения можно представить в виде\n",
        "$$F_n(x) = \\begin{cases} 0,\\ x \\leqslant x^{(1)},\\\\ \\dfrac 1n,\\ x \\in (x^{(1)}, x^{(2)}],\\\\ \\dfrac2n,\\ x \\in (x^{(2)}, x^{(3)}],\\\\ \\vdots\\\\ 1,\\ x > x^{(n)}. \\end{cases}$$"
      ]
    },
    {
      "cell_type": "markdown",
      "id": "bf8444a3-5923-4676-bd1d-cea4d1399c8c",
      "metadata": {
        "id": "bf8444a3-5923-4676-bd1d-cea4d1399c8c"
      },
      "source": [
        "Вернемся к рассматриваемой нами выборке\n",
        "из нормального распределения. Сделав сортировку ее элементов, мы можем\n",
        "получить соответствующий вариационный ряд:"
      ]
    },
    {
      "cell_type": "code",
      "execution_count": null,
      "id": "35feb09f-0338-4a14-813b-9372def6be69",
      "metadata": {
        "id": "35feb09f-0338-4a14-813b-9372def6be69",
        "outputId": "d4064c69-10db-4139-eab1-6b1bfc4838f9"
      },
      "outputs": [
        {
          "data": {
            "text/plain": [
              "[-0.4694743859349521,\n",
              " -0.23415337472333597,\n",
              " -0.23413695694918055,\n",
              " -0.13826430117118466,\n",
              " 0.4967141530112327,\n",
              " 0.5425600435859647,\n",
              " 0.6476885381006925,\n",
              " 0.7674347291529088,\n",
              " 1.5230298564080254,\n",
              " 1.5792128155073915]"
            ]
          },
          "execution_count": 126,
          "metadata": {},
          "output_type": "execute_result"
        }
      ],
      "source": [
        "var_series = sorted(random_sample)\n",
        "var_series"
      ]
    },
    {
      "cell_type": "markdown",
      "id": "34c28979-5f97-4f8a-9c1e-5d3183413f74",
      "metadata": {
        "id": "34c28979-5f97-4f8a-9c1e-5d3183413f74"
      },
      "source": [
        "Тогда эмпирическую функцию распределения можно построить следующим\n",
        "образом\n",
        "$$F_n(x) = \\begin{cases} 0,\\ x \\leqslant-0.46947,\\\\ \\dfrac1{10},\\ x \\in (-0.46947, -0.23415],\\\\ \\dfrac2{10},\\ x \\in (-0.23415, -0.23414],\\\\ \\vdots\\\\ 1,\\ x > 1.57921. \\end{cases}$$"
      ]
    },
    {
      "cell_type": "code",
      "execution_count": null,
      "id": "4d9d5346-809a-46ed-ba5f-b252fe603b3b",
      "metadata": {
        "id": "4d9d5346-809a-46ed-ba5f-b252fe603b3b",
        "outputId": "acd2d16c-8a5e-407e-d32e-764338ac5bf3"
      },
      "outputs": [
        {
          "name": "stdout",
          "output_type": "stream",
          "text": [
            "[       -inf -0.46947439 -0.23415337 -0.23413696 -0.1382643   0.49671415\n",
            "  0.54256004  0.64768854  0.76743473  1.52302986  1.57921282         inf]\n",
            "[0.  0.1 0.2 0.3 0.4 0.5 0.6 0.7 0.8 0.9 1. ]\n"
          ]
        }
      ],
      "source": [
        "import numpy as np\n",
        "\n",
        "x_values = np.concatenate(([-np.inf], var_series, [np.inf]))  # границы\n",
        "y_values = np.arange(0, n + 1) / n  # значения ЭФР\n",
        "print(x_values)\n",
        "print(y_values)"
      ]
    },
    {
      "cell_type": "code",
      "execution_count": null,
      "id": "bc863411-e6ad-46ba-8845-dedeecc1d739",
      "metadata": {
        "id": "bc863411-e6ad-46ba-8845-dedeecc1d739",
        "outputId": "fc02ca67-5a18-424f-8898-5680d2d7b6fd"
      },
      "outputs": [
        {
          "data": {
            "image/png": "[encoded data removed]",
            "text/plain": [
              "<Figure size 800x600 with 1 Axes>"
            ]
          },
          "metadata": {},
          "output_type": "display_data"
        }
      ],
      "source": [
        "import matplotlib.pyplot as plt\n",
        "\n",
        "x_plot = []\n",
        "y_plot = []\n",
        "\n",
        "for i in range(len(var_series)):\n",
        "    x_plot.extend([var_series[i], var_series[i]])\n",
        "    y_plot.extend([y_values[i], y_values[i + 1]])\n",
        "\n",
        "x_plot = [x_values[0]] + x_plot + [x_values[-1]]\n",
        "y_plot = [0] + y_plot + [1]\n",
        "\n",
        "plt.figure(figsize=(8, 6))\n",
        "plt.step(x_plot, y_plot, where='post', label=\"Эмпирическая функция распределения\")\n",
        "plt.scatter(var_series, np.arange(1, n + 1) / n, color='red', zorder=5, label=\"Точки перехода\")\n",
        "plt.title(\"Эмпирическая функция распределения\")\n",
        "plt.xlabel(\"x\")\n",
        "plt.ylabel(\"F_n(x)\")\n",
        "plt.legend()\n",
        "plt.grid()\n",
        "plt.show()"
      ]
    },
    {
      "cell_type": "code",
      "execution_count": null,
      "id": "c6311602-e4ba-430b-84ad-f88c0d5561c3",
      "metadata": {
        "id": "c6311602-e4ba-430b-84ad-f88c0d5561c3",
        "outputId": "7a6dded4-c44c-4add-8251-91ea8b8d12b4"
      },
      "outputs": [
        {
          "name": "stdout",
          "output_type": "stream",
          "text": [
            "Эмпирическая функция распределения F_n(x):\n",
            "0, x ≤ -0.46947\n",
            "0.1, x ∈ (-0.46947, -0.23415]\n",
            "0.2, x ∈ (-0.23415, -0.23414]\n",
            "0.3, x ∈ (-0.23414, -0.13826]\n",
            "0.4, x ∈ (-0.13826, 0.49671]\n",
            "0.5, x ∈ (0.49671, 0.54256]\n",
            "0.6, x ∈ (0.54256, 0.64769]\n",
            "0.7, x ∈ (0.64769, 0.76743]\n",
            "0.8, x ∈ (0.76743, 1.52303]\n",
            "0.9, x ∈ (1.52303, 1.57921]\n",
            "1, x > 1.57921\n"
          ]
        }
      ],
      "source": [
        "print(\"Эмпирическая функция распределения F_n(x):\")\n",
        "for i in range(n):\n",
        "    if i == 0:\n",
        "        print(f\"0, x ≤ {var_series[i]:.5f}\")\n",
        "    else:\n",
        "        print(f\"{i/n}, x ∈ ({var_series[i-1]:.5f}, {var_series[i]:.5f}]\")\n",
        "print(f\"1, x > {var_series[-1]:.5f}\")"
      ]
    },
    {
      "cell_type": "markdown",
      "id": "d942169e-ef8c-4895-bd2b-b4f9556671e6",
      "metadata": {
        "id": "d942169e-ef8c-4895-bd2b-b4f9556671e6"
      },
      "source": [
        "Таким образом, как мы видим, эмпирическая функция распределения\n",
        "случайной выборки имеет ступенчатый вид, а точнее кусочно-постоянный."
      ]
    },
    {
      "cell_type": "markdown",
      "id": "06181dec-2bec-4d2a-aba5-b3c250b849fe",
      "metadata": {
        "id": "06181dec-2bec-4d2a-aba5-b3c250b849fe"
      },
      "source": [
        "Запишем всё в виде отдельной функции."
      ]
    },
    {
      "cell_type": "code",
      "execution_count": null,
      "id": "f7cf1680-f59d-449b-afd5-34aa0365dfd1",
      "metadata": {
        "id": "f7cf1680-f59d-449b-afd5-34aa0365dfd1"
      },
      "outputs": [],
      "source": [
        "def cdf(random_sample):\n",
        "    n = len(random_sample)\n",
        "    var_series = sorted(random_sample)\n",
        "    x_values = np.concatenate(([-np.inf], var_series, [np.inf]))  # границы\n",
        "    y_values = np.arange(0, n + 1) / n  # значения ЭФР\n",
        "\n",
        "    x_plot = []\n",
        "    y_plot = []\n",
        "\n",
        "    for i in range(len(var_series)):\n",
        "        x_plot.extend([var_series[i], var_series[i]])\n",
        "        y_plot.extend([y_values[i], y_values[i + 1]])\n",
        "\n",
        "    x_plot = [x_values[0]] + x_plot + [x_values[-1]]\n",
        "    y_plot = [0] + y_plot + [1]\n",
        "\n",
        "    plt.figure(figsize=(8, 6))\n",
        "    plt.step(x_plot, y_plot, where='post', label=\"Эмпирическая функция распределения\")\n",
        "    #plt.scatter(var_series, np.arange(1, n + 1) / n, color='red', zorder=5, label=\"Точки перехода\")\n",
        "    plt.title(\"Эмпирическая функция распределения\")\n",
        "    plt.xlabel(\"x\")\n",
        "    plt.ylabel(\"F_n(x)\")\n",
        "    plt.legend()\n",
        "    plt.grid()\n",
        "    plt.show()"
      ]
    },
    {
      "cell_type": "markdown",
      "id": "24d7cdc1-5bbb-4217-8876-88f21b3eee82",
      "metadata": {
        "id": "24d7cdc1-5bbb-4217-8876-88f21b3eee82"
      },
      "source": [
        "## Точечные оценки параметров распределения\n",
        "\n",
        "Пусть из некоторого распределения нам на вход пришла случайная выборка\n",
        "$X = \\{x_1, \\ldots, x_n\\}$.\\\n",
        "\\\n",
        "$\\bullet$ ***Статистикой** $t$ выборки называется любая функция,\n",
        "зависящая только от элементов выборки, то есть $t = t(X)$.*\\\n",
        "\\\n",
        "То есть все функции, которые мы далее будем строить, основываясь на\n",
        "элементах выборки, будут являться статистиками выборки.\\\n",
        "\\\n",
        "Пусть мы смогли найти функцию распределения\n",
        "$F(x_1,\\ldots, x_n, \\theta) = F(X,\\theta)$ с точностью до параметра\n",
        "$\\theta$. Истинного параметра распределения мы не знаем.\n",
        "Следовательно, нам нужно построить некоторую оценку параметра\n",
        "распределения $\\theta$.\\\n",
        "\\\n",
        "$\\bullet$ ***Оценкой $\\hat\\theta$ параметра распределения $\\theta$**\n",
        "называется, вообще говоря, любая функция, зависящая от элементов\n",
        "выборки, то есть $\\hat \\theta= \\hat \\theta(x_1,\\ldots, x_n)$. Причем\n",
        "оценка параметра $\\hat\\theta$ является случайной величиной, так как\n",
        "элементы выборки $x_1,\\ldots, x_n$ являются случайными величинами.*\\\n",
        "\\\n",
        "Далее в этом параграфе мы будем заниматься рассмотрением основных\n",
        "методов, предназначенных для построения оценок $\\hat\\theta$. Однако\n",
        "сперва мы рассмотрим основные характеристики, по которым мы сможем\n",
        "делать некоторые выводы об адекватности построенных оценок."
      ]
    },
    {
      "cell_type": "markdown",
      "id": "2721d45f-da0a-4a1d-a44c-c8ac6952247f",
      "metadata": {
        "id": "2721d45f-da0a-4a1d-a44c-c8ac6952247f"
      },
      "source": [
        "### Свойства точечных оценок\n",
        "\n",
        "$\\bullet$ *Оценка $\\hat\\theta(x_1,\\ldots, x_n)$ параметра\n",
        "распределения $\\theta$ называется **несмещенной**, если*\n",
        "$$\\mathbf E\\{\\hat \\theta\\} = \\theta,$$ *в противном случае --\n",
        "**смещенной**. Число $\\mathbf E\\{\\hat \\theta- \\theta\\}$ также иногда\n",
        "называют **смещением оценки $\\hat \\theta$***. \\\n",
        "\\\n",
        "$\\bullet$ *Оценка $\\hat\\theta(x_1,\\ldots, x_n)$ параметра\n",
        "распределения $\\theta$ называется **состоятельной**, если $\\forall \\varepsilon >0$\n",
        "$$\\mathbf P\\{ |\\hat \\theta -\\theta|>\\varepsilon\\} \\xrightarrow[n\\to\\infty]{}  0$$ в\n",
        "противном случае -- **несостоятельной**.*\\\n",
        "\\\n",
        "Рассмотрим класс построенных оценок $\\mathcal K = \\{\\hat \\theta\\}$ (то\n",
        "есть некоторое множество построенных оценок). Возьмем из этого класса\n",
        "одну оценку параметров распределения $\\theta^* \\in \\mathcal K$.\\\n",
        "\\\n",
        "$\\bullet$ *Оценка $\\theta^*$ параметра распределения $\\theta$\n",
        "называется **эффективной** в классе оценок $\\mathcal K$, если она имеет\n",
        "наименьшую дисперсию\n",
        "$\\mathbf D\\{\\hat\\theta\\} = \\mathbf E\\{\\hat \\theta- \\theta\\}^2$, то есть*\n",
        "$$\\mathbf D\\{\\theta^*\\} = \\mathbf E\\{\\theta^* - \\theta\\}^2\\leqslant\\mathbf E\\{\\hat \\theta- \\theta\\}^2 = \\mathbf D\\{\\hat \\theta\\},\\ \\forall \\hat\\theta\\in \\mathcal K.$$\n",
        "Определение эффективности оценки можно также трактовать так: среди\n",
        "построенных оценок эффективной будет являться та оценка, которая\n",
        "обладает наименьшей дисперсией среди всех оценок.\\\n",
        "\\\n",
        "На\n",
        "практике дисперсия будет нулевой только в вырожденном случае. Поэтому\n",
        "важно построить оценку снизу для $\\mathbf D\\{\\hat \\theta\\}$.\\\n",
        "\\\n",
        "Из неравенства Рао-Крамера следует, что если плотность распределения\n",
        "выборки $p(X, \\theta) = \\prod_{i=1}^{n} p(x_i, \\theta)$ дважды\n",
        "дифференцируема по $\\theta$ и удовлетворяет условиям регулярности, то\n",
        "дисперсия любой несмещенной оценки может быть оценена снизу\n",
        "$$\\mathbf D\\{\\hat \\theta\\}\\geqslant\\dfrac{1}{n I(\\theta)},$$ где\n",
        "$$I(\\theta) = \\mathbf E\\left\\{\\dfrac{\\partial^2 \\ln p(x_i, \\theta)}{\\partial\\theta^2}\\right\\},\\ i=\\overline{1, n}$$\n",
        "-- это количество информации по Фишеру в одном выборочном значении. Это\n",
        "неравенство можно легко доказать, но мы не будем на этом\n",
        "останавливаться.\\\n",
        "\\\n",
        "Таким образом, в практическом случае мы сможем построить такую оценку\n",
        "параметров распределения, дисперсия которой будет минимальная, причем мы\n",
        "точно знаем, какого минимального значения она может достигать.\n"
      ]
    },
    {
      "cell_type": "markdown",
      "id": "6ae7dc27-68b4-40cd-a2f6-0a17b4f5d688",
      "metadata": {
        "id": "6ae7dc27-68b4-40cd-a2f6-0a17b4f5d688"
      },
      "source": [
        "### Выборочный метод построения точечных оценок\n",
        "\n",
        "Мы определились с характеристиками точечных оценок. Здесь и далее мы\n",
        "будем рассматривать основные методы построения точечных оценок. Причем\n",
        "нас будут интересовать именно те оценки, характеристики которых будут\n",
        "самыми лучшими, то есть оценки должны быть несмещенными, состоятельными\n",
        "и эффективными в своем классе оценок.\\\n",
        "\\\n",
        "Первый метод построения точечных оценок называется *выборочным методом*.\n",
        "И негласно мы уже им воспользовались, когда определяли эмпирическую\n",
        "функцию распределения. Теперь же мы подробнее остановимся на\n",
        "рассмотрении этого способа построения оценок.\\\n",
        "\\\n",
        "Вспомним, что мы делали, когда строили эмпирическую функцию\n",
        "распределения. Введем фиктивную случайную величину $\\xi$ такую, что\n",
        "$$\\mathbf P\\{\\xi= x_1\\} = \\ldots = \\mathbf P\\{\\xi= x_n\\} = \\frac{1}{n},$$\n",
        "то есть эта случайная величина равновероятно принимает любое из значений\n",
        "выборки. Тогда мы определяли эмпирическую функцию распределения как\n",
        "функцию распределения случайной величины $\\xi$, то есть\n",
        "$$F_\\xi(x) = \\mathbf P\\{\\xi\\leqslant x\\} = \\frac{1}{n} \\sum_{i=1}^{n} \\mathbb I(x - x_i).$$\n",
        "Но что же мы можем сказать об адекватности построенной оценки? Теперь мы\n",
        "умеем характеризовать оценки. Тогда определим, является ли эта оценка\n",
        "несмещенной и состоятельной. Сперва докажем *несмещенность*\n",
        "$$\\mathbf E\\{F_n(x)\\} = \\mathbf E\\left\\{ \\frac{1}{n} \\sum_{i=1}^{n} \\mathbb I(x - x_i)\\right\\} = \\frac{1}{n} \\sum_{i=1}^{n} \\mathbf E\\{\\mathbb I(x - x_i)\\} = \\frac{1}{n} \\sum_{i=1}^{n} 1\\cdot \\mathbf P\\{\\mathbb I(x - x_i)\\} = \\frac{1}{n} \\sum_{i=1}^{n} 1\\cdot \\mathbf P\\{x_i < x\\} = F(x).$$ Теперь докажем *состоятельность*, применяя\n",
        "теорему усиленного закона больших чисел\n",
        "$$F_n(x) = \\frac{1}{n} \\sum_{i=1}^{n} \\mathbb I(x - x_i) \\xrightarrow[n\\to\\infty]{\\text{п.н.}} \\mathbf E\\{\\mathbb I(x - x_i)\\}=F(x),$$\n",
        "где *последовательность случайных величин $\\xi_n$ **сходится почти наверное** (почти всюду) к случайной величине $\\xi$, то есть $$\\xi_n \\xrightarrow[n \\to \\infty]{\\text{п.н.}}\\xi,$$ если*\n",
        "$$\n",
        "\t\\lim_{n \\to \\infty} \\xi_n = \\xi, \\text{ если }\n",
        "\tP\\{\\omega : \\lim_{n \\to \\infty} \\xi_n(\\omega) = \\xi(\\omega)\\} = 1\n",
        "$$\n",
        "Таким образом, эмпирическая функция распределения является *несмещенной\n",
        "и состоятельной выборочной оценкой* функции распределения.\\\n",
        "\\\n",
        "По аналогии мы должны построить выборочные оценки для математического\n",
        "ожидания, моментов $k$-ого порядка и дисперсии.\\\n",
        "\\\n",
        "Определим выборочный аналог математического ожидания. По аналогии с\n",
        "эмпирической функцией распределения, мы определим математическое\n",
        "ожидание от выборки как математическое ожидание фиктивной случайной\n",
        "величины $\\xi$, тогда\n",
        "$$\\mathbf E\\{\\xi\\} = \\dfrac{1}n\\sum\\limits_{i=1}^nx_i=\\mu.$$\n",
        "$\\bullet$ *Число $$\\overline x = \\dfrac{1}n\\sum\\limits_{i=1}^nx_i,$$\n",
        "являющееся средним арифметическим значений выборки, называется\n",
        "**выборочным средним**.*\\\n",
        "\\\n",
        "Как можно видеть, в случае со случайной выборкой математическое\n",
        "ожидание, то есть среднее ожидаемое значение случайной величины,\n",
        "является просто средним арифметическим от всех значений.\\\n",
        "\\\n",
        "Докажем *несмещенность* построенной оценки\n",
        "$$\\mathbf E\\{\\overline x\\} = \\mathbf E\\left\\{ \\dfrac{1}n\\sum\\limits_{i=1}^nx_i\\right\\} = \\dfrac{1}n\\sum\\limits_{i=1}^n\\mathbf E\\{x_i\\} = \\mu.$$\n",
        "Докажем *состоятельность* построенной оценки\n",
        "$$\\overline x = \\dfrac{1}n\\sum\\limits_{i=1}^nx_i \\xrightarrow[n\\to\\infty]{\\text{п.н.}} \\mathbf E\\{x_i\\} = \\mu.$$\n",
        "Подобно математическому ожиданию определим выборочные аналоги для\n",
        "начальных моментов $k$-ого порядка\n",
        "$$\\mathbf E\\{\\xi^k\\} = \\dfrac 1n \\sum\\limits_{i=1}^nx_i^k = a_k.$$\n",
        "$\\bullet$ *Число $$\\alpha_k = \\dfrac 1n \\sum\\limits_{i=1}^nx_i^k$$\n",
        "называется **выборочным начальным моментом $k$-ого порядка.***\\\n",
        "\\\n",
        "Построим выборочный аналог дисперсии\n",
        "$$\\mathbf D\\{\\xi\\} = \\dfrac{1}n\\sum\\limits_{i=1}^n(x_i - \\overline x)^2 = S^2.$$\n",
        "$\\bullet$ *Число\n",
        "$$\\sigma^2 = \\dfrac{1}n\\sum\\limits_{i=1}^n(x_i - \\overline x)^2,$$\n",
        "являющееся среднеквадратичным отклонением значений выборки от среднего\n",
        "арифметического, называется **выборочной дисперсией**.*\\\n",
        "\\\n",
        "Исследуем выборочную оценку дисперсии на несмещенность\n",
        "$$\\mathbf E\\{\\sigma^2\\}= \\mathbf E\\{\\alpha_2 - \\overline x^2\\} = \\mathbf E\\{\\alpha_2\\} - \\mathbf E\\{\\overline x^2\\} = a_2 - \\mathbf E\\{\\overline x^2\\}.$$\n",
        "Вычислим отдельно $\\mathbf E\\{\\overline x^2\\}$\n",
        "$$\\mathbf E\\{\\overline x^2\\} = \\mathbf E\\left\\{\\dfrac{1}n\\sum\\limits_{i=1}^n\\right\\}^2 = \\dfrac{1}{n^2} \\sum\\limits_{i=1}^n\\mathbf E\\{x_i\\}^2 - \\dfrac{1}{n^2} \\sum_{i<j} \\mathbf E\\{x_i x_j\\} = \\dfrac1n \\cdot a_2 + \\dfrac{n-1}n \\cdot \\mu^2.$$\n",
        "Таким образом,\n",
        "$$\\mathbf E\\{\\sigma^2\\}= \\dfrac {n-1}{n}(a_2 - \\mu^2) = \\dfrac{n-1}{n}\\sigma^2,$$\n",
        "то есть оценка является *смещенной*.\\\n",
        "\\\n",
        "*Состоятельность* можно доказать как и до этого\n",
        "$$\\sigma^2 = \\alpha_2 - \\overline x ^2 \\xrightarrow[n\\to\\infty]{\\text{п.н.}} a_2 - \\mu^2 = \\mathbf D\\{\\xi\\} = S^2.$$\n",
        "Поскольку построенная выборочная оценка дисперсии получается смещенной,\n",
        "то также принято рассматривать несмещенную оценку дисперсии\n",
        "$$\\sigma_n^2 = \\dfrac{n}{n-1}\\sigma^2 = \\dfrac{1}{n-1}\\sum\\limits_{i=1}^n(x_i - \\overline x)^2.$$"
      ]
    },
    {
      "cell_type": "code",
      "execution_count": null,
      "id": "9a4dee6f-6237-42cc-9bdb-00a1ebde8e45",
      "metadata": {
        "id": "9a4dee6f-6237-42cc-9bdb-00a1ebde8e45",
        "outputId": "310dc988-eace-417d-bd31-141a4182c142"
      },
      "outputs": [
        {
          "name": "stdout",
          "output_type": "stream",
          "text": [
            "mean=3.31\n",
            "biased_variance=0.0849\n",
            "unbiased_variance=0.09433333333333332\n",
            "std=0.2913760456866693\n",
            "std^2=0.0849\n"
          ]
        }
      ],
      "source": [
        "data = [3.5, 3.0, 3.2, 3.1, 3.6, 3.9, 3.4, 3.4, 2.9, 3.1]\n",
        "mean = np.mean(data)\n",
        "\n",
        "#var - дисперсия\n",
        "biased_variance = np.var(data)\n",
        "\n",
        "# ddof = 1 - Для не смещенной дисперсии, (степени свободы)\n",
        "unbiased_variance = np.var(data, ddof=1)\n",
        "\n",
        "# std - отклонение ( как корень из несмещенной дисперсии)\n",
        "std = np.std(data)\n",
        "\n",
        "print('mean=' + str(mean))\n",
        "\n",
        "#\n",
        "print('biased_variance=' + str(biased_variance))\n",
        "\n",
        "# играет роль точности\n",
        "print('unbiased_variance=' + str(unbiased_variance))\n",
        "print('std=' + str(std))\n",
        "\n",
        "#\n",
        "print('std^2=' + str(std**2))"
      ]
    },
    {
      "cell_type": "markdown",
      "id": "a7d5aa47-4fa9-414f-b448-35a1b6ac8f6f",
      "metadata": {
        "id": "a7d5aa47-4fa9-414f-b448-35a1b6ac8f6f"
      },
      "source": [
        "### Метод максимального правдоподобия построения точечных оценок\n",
        "\n",
        "Итак, имеем выборку $X = \\{x_1,\\ldots, x_n\\}$ из некоторого\n",
        "распределения (дискретного или непрерывного) с плотностью распределения\n",
        "$$p_\\xi(X, \\theta) = \\prod_{i=1}^n p_\\xi(x_i, \\theta).$$\n",
        "Необходимо построить оценку\n",
        "$\\hat \\theta= (\\hat \\theta_1 ,\\ldots, \\hat \\theta_s)^T$ параметра\n",
        "$\\theta= (\\theta_1 ,\\ldots, \\theta_s)^T$. Принимая $x_k$ за\n",
        "известную величину, а $\\theta$ -- за переменную, можем построить\n",
        "*функцию правдоподобия*\n",
        "$$L(X, \\theta) = \\prod_{i=1}^n p_\\xi(x_i, \\theta).$$ В качестве\n",
        "оценки $\\hat \\theta$ выбирается такое значение переменной $\\theta$,\n",
        "при котором функция правдоподобия достигает максимального значения, то\n",
        "есть $$L(X,\\hat \\theta) = \\underset{\\theta}{\\max}\\ L(X, \\theta),$$\n",
        "а тогда\n",
        "$$\\hat \\theta= \\arg \\underset{\\theta}{\\max}\\ L(X, \\theta).$$ Часто\n",
        "вместо $L(X,\\theta)$ принято брать логарифм $\\ln L(X,\\theta)$, так\n",
        "как логарифм -- функция возрастающая и он будет достигать максимума на\n",
        "тех же значениях $\\theta$, что и исходная функция. Это можно увидеть из следующего графика:"
      ]
    },
    {
      "cell_type": "code",
      "execution_count": null,
      "id": "c8607251-05e4-4446-8146-c73caf224952",
      "metadata": {
        "id": "c8607251-05e4-4446-8146-c73caf224952"
      },
      "outputs": [],
      "source": [
        "def L(x):\n",
        "    return -x**4+4*x**2+x+2\n",
        "\n",
        "def logL(x):\n",
        "    return np.log(-x**4+4*x**2+x+2)"
      ]
    },
    {
      "cell_type": "code",
      "execution_count": null,
      "id": "b599618b-8738-412d-afd7-cb6161b01ea4",
      "metadata": {
        "id": "b599618b-8738-412d-afd7-cb6161b01ea4",
        "outputId": "fcec3898-1dee-4b0f-a634-26110ff5738e"
      },
      "outputs": [
        {
          "data": {
            "image/png": "[encoded data removed]",
            "text/plain": [
              "<Figure size 800x600 with 1 Axes>"
            ]
          },
          "metadata": {},
          "output_type": "display_data"
        }
      ],
      "source": [
        "import math\n",
        "\n",
        "x = np.linspace(-1.9, 2, 1000)\n",
        "\n",
        "plt.figure(figsize=(8, 6))\n",
        "plt.plot(x, L(x), label=\"L(x)\")\n",
        "plt.plot(x, logL(x), label=\"ln(L(x))\")\n",
        "plt.xlabel(\"x\")\n",
        "plt.ylabel(\"y(x)\")\n",
        "plt.legend()\n",
        "plt.grid()\n",
        "plt.show()"
      ]
    },
    {
      "cell_type": "markdown",
      "id": "a4e529a8-8207-48ff-b93f-e1162f4cd3a9",
      "metadata": {
        "id": "a4e529a8-8207-48ff-b93f-e1162f4cd3a9"
      },
      "source": [
        "Таким образом, можно взять\n",
        "$$\\ln L(X,\\theta) = \\sum\\limits_{i=1}^n\\ln p(x_i,\\theta),$$ и тогда\n",
        "$$\\hat \\theta= \\arg \\underset{\\theta}{\\max}\\ \\ln L(X, \\theta).$$\n",
        "Если функция правдоподобия дифференцируема по параметру $\\theta$, то\n",
        "для отыскания оценок $\\theta$ можно использовать уравнения\n",
        "$$\\dfrac{\\partial L(X,\\theta)}{\\partial\\theta} = 0$$ или\n",
        "$$\\dfrac{\\partial\\ln L(X,\\theta)}{\\partial\\theta} = 0,$$ то есть как\n",
        "и в случае отыскания локального (глобального) максимума функции.\\\n",
        "\\\n",
        "Если функция правдоподобия непрерывно дифференцируема и для нее\n",
        "выполняются условия гладкости, то оценки максимального правдоподобия\n",
        "будут состоятельными и эффективны."
      ]
    },
    {
      "cell_type": "markdown",
      "id": "fc16767d-5b28-4b68-bf0e-b08783dc6c2d",
      "metadata": {
        "id": "fc16767d-5b28-4b68-bf0e-b08783dc6c2d"
      },
      "source": [
        "### Задача"
      ]
    },
    {
      "cell_type": "markdown",
      "id": "62f4e02a-ffa3-4619-a7c8-8e345a6c3fab",
      "metadata": {
        "id": "62f4e02a-ffa3-4619-a7c8-8e345a6c3fab"
      },
      "source": [
        "Загрузим набор данных с помощью библиотеки Pandas из файла data.csv"
      ]
    },
    {
      "cell_type": "code",
      "execution_count": null,
      "id": "1c80872f-f9a8-4456-a0f5-0b3676f674ed",
      "metadata": {
        "id": "1c80872f-f9a8-4456-a0f5-0b3676f674ed",
        "outputId": "8760f767-06e0-4fb0-99bd-e6aace8eb5d0"
      },
      "outputs": [
        {
          "data": {
            "text/html": [
              "<div>\n",
              "<style scoped>\n",
              "    .dataframe tbody tr th:only-of-type {\n",
              "        vertical-align: middle;\n",
              "    }\n",
              "\n",
              "    .dataframe tbody tr th {\n",
              "        vertical-align: top;\n",
              "    }\n",
              "\n",
              "    .dataframe thead th {\n",
              "        text-align: right;\n",
              "    }\n",
              "</style>\n",
              "<table border=\"1\" class=\"dataframe\">\n",
              "  <thead>\n",
              "    <tr style=\"text-align: right;\">\n",
              "      <th></th>\n",
              "      <th>X</th>\n",
              "      <th>Y</th>\n",
              "    </tr>\n",
              "  </thead>\n",
              "  <tbody>\n",
              "    <tr>\n",
              "      <th>0</th>\n",
              "      <td>9</td>\n",
              "      <td>1.036766</td>\n",
              "    </tr>\n",
              "    <tr>\n",
              "      <th>1</th>\n",
              "      <td>5</td>\n",
              "      <td>9.137511</td>\n",
              "    </tr>\n",
              "    <tr>\n",
              "      <th>2</th>\n",
              "      <td>6</td>\n",
              "      <td>6.108730</td>\n",
              "    </tr>\n",
              "    <tr>\n",
              "      <th>3</th>\n",
              "      <td>5</td>\n",
              "      <td>0.640862</td>\n",
              "    </tr>\n",
              "    <tr>\n",
              "      <th>4</th>\n",
              "      <td>4</td>\n",
              "      <td>5.549188</td>\n",
              "    </tr>\n",
              "    <tr>\n",
              "      <th>...</th>\n",
              "      <td>...</td>\n",
              "      <td>...</td>\n",
              "    </tr>\n",
              "    <tr>\n",
              "      <th>95</th>\n",
              "      <td>6</td>\n",
              "      <td>6.296571</td>\n",
              "    </tr>\n",
              "    <tr>\n",
              "      <th>96</th>\n",
              "      <td>3</td>\n",
              "      <td>2.703184</td>\n",
              "    </tr>\n",
              "    <tr>\n",
              "      <th>97</th>\n",
              "      <td>5</td>\n",
              "      <td>21.733902</td>\n",
              "    </tr>\n",
              "    <tr>\n",
              "      <th>98</th>\n",
              "      <td>4</td>\n",
              "      <td>0.739480</td>\n",
              "    </tr>\n",
              "    <tr>\n",
              "      <th>99</th>\n",
              "      <td>10</td>\n",
              "      <td>16.155538</td>\n",
              "    </tr>\n",
              "  </tbody>\n",
              "</table>\n",
              "<p>100 rows × 2 columns</p>\n",
              "</div>"
            ],
            "text/plain": [
              "     X          Y\n",
              "0    9   1.036766\n",
              "1    5   9.137511\n",
              "2    6   6.108730\n",
              "3    5   0.640862\n",
              "4    4   5.549188\n",
              "..  ..        ...\n",
              "95   6   6.296571\n",
              "96   3   2.703184\n",
              "97   5  21.733902\n",
              "98   4   0.739480\n",
              "99  10  16.155538\n",
              "\n",
              "[100 rows x 2 columns]"
            ]
          },
          "execution_count": 192,
          "metadata": {},
          "output_type": "execute_result"
        }
      ],
      "source": [
        "import pandas as pd\n",
        "\n",
        "data = pd.read_csv('data.csv')\n",
        "data"
      ]
    },
    {
      "cell_type": "markdown",
      "id": "d4b76c55-4a0a-49d4-a001-b4a7d7ed6fa7",
      "metadata": {
        "id": "d4b76c55-4a0a-49d4-a001-b4a7d7ed6fa7"
      },
      "source": [
        "Мы имеем две случайные выборки по 100 значений каждая"
      ]
    },
    {
      "cell_type": "code",
      "execution_count": null,
      "id": "53dea09f-8c0c-4a3f-b486-13b1a4edcab9",
      "metadata": {
        "id": "53dea09f-8c0c-4a3f-b486-13b1a4edcab9",
        "outputId": "be991f6e-6f15-4a4f-889d-263c1eebc565"
      },
      "outputs": [
        {
          "data": {
            "text/plain": [
              "array([ 9,  5,  6,  5,  4,  3,  6,  5,  1,  9,  4,  5,  2,  2,  5,  6,  4,\n",
              "        4,  7,  5,  3,  6,  3,  4,  4,  5,  4,  5,  5,  6,  4,  8,  5,  4,\n",
              "        4,  4,  6,  5,  6,  4,  4,  6,  5,  5,  2,  4,  3,  5, 11,  4,  5,\n",
              "        5,  3,  2,  4,  7,  8,  3,  3,  5,  7,  3,  9,  7,  9,  2,  8,  2,\n",
              "        7,  2,  4,  2,  4,  7,  2,  7,  5,  5,  4,  9,  5,  5,  2,  3,  5,\n",
              "        3,  5,  5,  7,  4,  6,  4,  3,  2,  4,  6,  3,  5,  4, 10])"
            ]
          },
          "execution_count": 193,
          "metadata": {},
          "output_type": "execute_result"
        }
      ],
      "source": [
        "data['X'].values"
      ]
    },
    {
      "cell_type": "code",
      "execution_count": null,
      "id": "1f3ad361-61c9-4c9a-a520-a2cf9be30dc6",
      "metadata": {
        "id": "1f3ad361-61c9-4c9a-a520-a2cf9be30dc6",
        "outputId": "8aa47e98-b119-4ceb-86d2-88c8a4597b7a"
      },
      "outputs": [
        {
          "name": "stdout",
          "output_type": "stream",
          "text": [
            "min(X)=1\n",
            "max(X)=11\n"
          ]
        }
      ],
      "source": [
        "print('min(X)=' + str(data['X'].min()))\n",
        "print('max(X)=' + str(data['X'].max()))"
      ]
    },
    {
      "cell_type": "markdown",
      "id": "d52692ba-355f-48cb-974b-722738cfe8ec",
      "metadata": {
        "id": "d52692ba-355f-48cb-974b-722738cfe8ec"
      },
      "source": [
        "Скорее всего случайная выбора $X$ из дискретного распределения, так как принимает натуральные значения от 1 до 11"
      ]
    },
    {
      "cell_type": "code",
      "execution_count": null,
      "id": "caf7f28d-5f0c-432d-84c1-ffa959554878",
      "metadata": {
        "id": "caf7f28d-5f0c-432d-84c1-ffa959554878",
        "outputId": "ff624d42-5cfc-4827-9bfd-7698b3a25b43"
      },
      "outputs": [
        {
          "data": {
            "text/plain": [
              "array([1.03676578e+00, 9.13751130e+00, 6.10872953e+00, 6.40861943e-01,\n",
              "       5.54918769e+00, 6.52632377e+00, 1.76183818e+00, 1.11214593e+00,\n",
              "       3.91279880e+00, 1.71065045e+01, 5.91615455e+00, 4.28086634e+00,\n",
              "       6.32314822e+00, 4.98551569e-01, 6.91740396e+00, 1.44007809e+00,\n",
              "       3.54262111e-01, 1.05817752e+01, 2.81870966e+00, 1.01227185e+01,\n",
              "       9.27313237e+00, 7.20678276e+00, 9.47369047e+00, 3.02907798e+00,\n",
              "       6.47536801e+00, 1.24001938e+01, 2.21731163e+01, 9.03541012e+00,\n",
              "       1.01945000e+01, 1.30918983e+00, 8.84848037e+00, 5.49329895e-01,\n",
              "       3.21485504e-01, 1.02900433e+01, 3.55272388e+00, 5.98289766e+00,\n",
              "       2.63808688e+00, 9.96914963e+00, 1.50856101e+01, 2.42689628e+01,\n",
              "       8.31504031e-01, 1.01555027e+00, 1.05754383e+01, 2.91936712e+00,\n",
              "       5.89802054e-01, 8.12944342e+00, 1.51845262e+00, 1.29719331e+01,\n",
              "       3.13939134e+00, 1.00181873e+01, 1.78166658e-02, 1.66273720e+00,\n",
              "       9.68581685e+00, 1.99668430e+01, 1.69259502e+00, 1.39117943e+01,\n",
              "       1.02006560e+01, 1.13734367e+00, 1.13446175e+00, 3.57187978e+00,\n",
              "       2.01139043e+01, 2.51460221e+00, 9.53442061e+00, 1.79073255e+00,\n",
              "       1.92368565e+00, 7.23352929e+00, 9.75168707e+00, 9.28620023e+00,\n",
              "       1.80555846e+00, 2.61977124e+00, 7.14357935e+00, 3.17706423e+00,\n",
              "       7.59869740e-01, 4.82223414e-01, 1.51348342e+01, 1.84861456e+00,\n",
              "       3.55083906e-01, 7.83631427e+00, 6.13723034e+00, 8.36063124e+00,\n",
              "       7.67161713e+00, 1.01206048e+01, 2.11492966e+01, 4.66517924e-01,\n",
              "       2.02325348e+00, 1.83716666e+01, 5.70587722e+00, 6.60687775e-01,\n",
              "       6.14924963e-01, 7.49854637e-01, 1.02289657e+00, 1.22064336e+00,\n",
              "       3.91282466e+01, 2.20700260e+01, 1.27688301e+01, 6.29657078e+00,\n",
              "       2.70318447e+00, 2.17339017e+01, 7.39480317e-01, 1.61555376e+01])"
            ]
          },
          "execution_count": 194,
          "metadata": {},
          "output_type": "execute_result"
        }
      ],
      "source": [
        "data['Y'].values"
      ]
    },
    {
      "cell_type": "code",
      "execution_count": null,
      "id": "530efbda-98d7-463a-99ae-1967bbc77241",
      "metadata": {
        "id": "530efbda-98d7-463a-99ae-1967bbc77241",
        "outputId": "fdcdf716-f8cc-4fcb-d92c-a7ae9fcc4f29"
      },
      "outputs": [
        {
          "name": "stdout",
          "output_type": "stream",
          "text": [
            "min(Y)=0.0178166658427434\n",
            "max(Y)=39.12824660515\n"
          ]
        }
      ],
      "source": [
        "print('min(Y)=' + str(data['Y'].min()))\n",
        "print('max(Y)=' + str(data['Y'].max()))"
      ]
    },
    {
      "cell_type": "markdown",
      "id": "6bfbaf1c-bc72-47ee-8838-956bfe89a801",
      "metadata": {
        "id": "6bfbaf1c-bc72-47ee-8838-956bfe89a801"
      },
      "source": [
        "А вот случайная выборка $Y$ из непрерывного распределения, так как принимает действительные значения от 0 до 40."
      ]
    },
    {
      "cell_type": "markdown",
      "id": "a2221863-0fe1-424c-829e-a18fe78b4250",
      "metadata": {
        "id": "a2221863-0fe1-424c-829e-a18fe78b4250"
      },
      "source": [
        "Обозначим каждую случайную выборку отдельной переменной"
      ]
    },
    {
      "cell_type": "code",
      "execution_count": null,
      "id": "f593b683-f644-487a-bd9a-e2a079341798",
      "metadata": {
        "id": "f593b683-f644-487a-bd9a-e2a079341798"
      },
      "outputs": [],
      "source": [
        "X = data['X'].values\n",
        "Y = data['Y'].values"
      ]
    },
    {
      "cell_type": "markdown",
      "id": "b891c586-1cb8-4990-a09f-3f92c3c4a9fa",
      "metadata": {
        "id": "b891c586-1cb8-4990-a09f-3f92c3c4a9fa"
      },
      "source": [
        "Начнем исследование с случайной выборки X. Сперва рассмотрим ее ЭФР"
      ]
    },
    {
      "cell_type": "code",
      "execution_count": null,
      "id": "a869e3f0-9ab2-488c-95f8-02ac55b94672",
      "metadata": {
        "id": "a869e3f0-9ab2-488c-95f8-02ac55b94672",
        "outputId": "f3908cdd-1d2c-4b95-894a-1644f7b7a902"
      },
      "outputs": [
        {
          "data": {
            "image/png": "[encoded data removed]",
            "text/plain": [
              "<Figure size 800x600 with 1 Axes>"
            ]
          },
          "metadata": {},
          "output_type": "display_data"
        }
      ],
      "source": [
        "cdf(X)"
      ]
    },
    {
      "cell_type": "markdown",
      "id": "4c16b15e-74e5-465c-a342-c758d7786d2f",
      "metadata": {
        "id": "4c16b15e-74e5-465c-a342-c758d7786d2f"
      },
      "source": [
        "По ЭФР сложно понять, какое именно распределение у случайной величины. Рассмотрим еще один тип визуализации случайной выборки -- гистограмма."
      ]
    },
    {
      "cell_type": "code",
      "execution_count": null,
      "id": "ca3d1295-5465-4183-9f26-fd587ff04797",
      "metadata": {
        "id": "ca3d1295-5465-4183-9f26-fd587ff04797",
        "outputId": "fcc36b75-6c8d-4439-b9fc-62ce4464ec93"
      },
      "outputs": [
        {
          "data": {
            "image/png": "[encoded data removed]",
            "text/plain": [
              "<Figure size 800x600 with 1 Axes>"
            ]
          },
          "metadata": {},
          "output_type": "display_data"
        }
      ],
      "source": [
        "def hist(data):\n",
        "    plt.figure(figsize=(8, 6))\n",
        "    plt.hist(data, density=True)\n",
        "    plt.title(\"Гистограмма распределения\")\n",
        "    plt.xlabel(\"x\")\n",
        "    plt.ylabel(\"Frequency\")\n",
        "    plt.grid()\n",
        "    plt.show()\n",
        "\n",
        "hist(X)"
      ]
    },
    {
      "cell_type": "markdown",
      "id": "ac73f3d6-9af7-447c-91d0-75f0128143b0",
      "metadata": {
        "id": "ac73f3d6-9af7-447c-91d0-75f0128143b0"
      },
      "source": [
        "Гистограмма строится в виде \"значение : частота\", то есть для каждого значения в выборке в соответствие ставится частота его встречаемости относительно всей выборки. Мы можем вручную рассчитать частоту встречаемости каждого значения, чтобы убедится в том, что мы не ошиблись с определением гистограммы."
      ]
    },
    {
      "cell_type": "code",
      "execution_count": null,
      "id": "08785739-b4b2-4ade-81b7-99661a40664c",
      "metadata": {
        "id": "08785739-b4b2-4ade-81b7-99661a40664c"
      },
      "outputs": [],
      "source": [
        "unique, counts = np.unique(X, return_counts=True)"
      ]
    },
    {
      "cell_type": "code",
      "execution_count": null,
      "id": "95465157-cf08-4275-842a-20106dd12774",
      "metadata": {
        "id": "95465157-cf08-4275-842a-20106dd12774",
        "outputId": "7e03b6aa-abc0-4a22-f385-7ee56aeb1a2e"
      },
      "outputs": [
        {
          "data": {
            "text/plain": [
              "array([ 1,  2,  3,  4,  5,  6,  7,  8,  9, 10, 11])"
            ]
          },
          "execution_count": 179,
          "metadata": {},
          "output_type": "execute_result"
        }
      ],
      "source": [
        "unique"
      ]
    },
    {
      "cell_type": "code",
      "execution_count": null,
      "id": "4502d13f-f0b6-4be7-862f-7c67d39ea675",
      "metadata": {
        "id": "4502d13f-f0b6-4be7-862f-7c67d39ea675",
        "outputId": "d76b6a60-c61c-4b80-c6c1-40f4f14d58cb"
      },
      "outputs": [
        {
          "data": {
            "text/plain": [
              "array([0.01, 0.11, 0.12, 0.23, 0.25, 0.1 , 0.08, 0.03, 0.05, 0.01, 0.01])"
            ]
          },
          "execution_count": 180,
          "metadata": {},
          "output_type": "execute_result"
        }
      ],
      "source": [
        "counts / len(X)"
      ]
    },
    {
      "cell_type": "markdown",
      "id": "d9a95ce5-f5bc-41d1-9d8d-477fff9a5f96",
      "metadata": {
        "id": "d9a95ce5-f5bc-41d1-9d8d-477fff9a5f96"
      },
      "source": [
        "В итоге гистограмма распределения напоминает распределение Пуассона\n",
        "$$\\mathbf P\\{\\xi= k\\} = \\frac{\\theta^k}{k!}e^{-\\theta}, \\theta> 0.$$\n",
        "Найдем оценку параметра $\\theta$.\\\n",
        "\\\n",
        "Сперва нам нужно записать наше распределение Пуассона в виде плотности\n",
        "распределения. Считаем, что случайная выборка имеет плотность\n",
        "распределения\n",
        "$$p_\\xi(x,\\theta) = \\frac{\\theta^{x_k}}{x_k!}e^{-\\theta},\\ \\theta> 0.$$\n",
        "Тогда мы можем составить функцию правдоподобия\n",
        "$$L(X,\\theta) = \\prod_{i=1}^n \\frac{\\theta^{x_i}}{x_i!}e^{-\\theta} = \\frac{\\theta^{\\sum\\limits_{i=1}^nx_i}}{\\prod_{i=1}^nx_i!}e^{-n\\theta}.$$\n",
        "Исследовать на экстремум эту функцию сложно, поэтому мы упростим ее,\n",
        "взяв логарифм от функции правдоподобия,\n",
        "$$\\ln L(X, \\theta) = \\ln \\theta\\cdot \\sum\\limits_{i=1}^nx_i - n\\theta- \\sum\\limits_{i=1}^n\\ln x_i!$$\n",
        "Возьмем от этой функции производную по $\\theta$ и получим\n",
        "$$\\dfrac{\\partial\\ln L(X, \\theta)}{\\partial\\theta}= \\dfrac {\\sum\\limits_{i=1}^nx_i}{\\theta}- n.$$\n",
        "Приравниваем эту производную к нулю, чтобы найти нужную нам оценку\n",
        "$$\\dfrac {\\sum\\limits_{i=1}^nx_i}{\\theta}- n = 0,$$ тогда\n",
        "$$\\theta= \\dfrac 1 n \\sum\\limits_{i=1}^nx_i.$$ Таким образом, мы\n",
        "построили оценку параметра $\\theta$, и она совпадает с выборочным\n",
        "средним."
      ]
    },
    {
      "cell_type": "code",
      "execution_count": null,
      "id": "5b83bf20-c37d-45b0-91f8-583c7a7bd184",
      "metadata": {
        "id": "5b83bf20-c37d-45b0-91f8-583c7a7bd184",
        "outputId": "f89b81a1-40c5-4356-f7e6-2f99625e60d6"
      },
      "outputs": [
        {
          "data": {
            "text/plain": [
              "4.82"
            ]
          },
          "execution_count": 182,
          "metadata": {},
          "output_type": "execute_result"
        }
      ],
      "source": [
        "theta = X.mean()\n",
        "theta"
      ]
    },
    {
      "cell_type": "markdown",
      "id": "7008cfa0-2143-4c6f-bd55-1a5e3b831e75",
      "metadata": {
        "id": "7008cfa0-2143-4c6f-bd55-1a5e3b831e75"
      },
      "source": [
        "В итоге случайная выборка $X$ была получена из распределения Пуассона с параметром $\\approx 4.82$.\n",
        "\n",
        "Рассмотрим случайную выборку $Y$. Построим для нее ЭФР"
      ]
    },
    {
      "cell_type": "code",
      "execution_count": null,
      "id": "6ce16ae3-d1a0-41a5-82a8-bcfe372255bb",
      "metadata": {
        "id": "6ce16ae3-d1a0-41a5-82a8-bcfe372255bb",
        "outputId": "a490bbf0-d638-4327-e772-e66ddb5900b5"
      },
      "outputs": [
        {
          "data": {
            "image/png": "[encoded data removed]",
            "text/plain": [
              "<Figure size 800x600 with 1 Axes>"
            ]
          },
          "metadata": {},
          "output_type": "display_data"
        }
      ],
      "source": [
        "cdf(Y)"
      ]
    },
    {
      "cell_type": "code",
      "execution_count": null,
      "id": "40b3d88f-77d1-4e3f-af1b-266dbc7d03e6",
      "metadata": {
        "id": "40b3d88f-77d1-4e3f-af1b-266dbc7d03e6",
        "outputId": "8c301521-1948-4dbd-e77b-6f9f859c5fe0"
      },
      "outputs": [
        {
          "data": {
            "image/png": "[encoded data removed]",
            "text/plain": [
              "<Figure size 800x600 with 1 Axes>"
            ]
          },
          "metadata": {},
          "output_type": "display_data"
        }
      ],
      "source": [
        "hist(Y)"
      ]
    },
    {
      "cell_type": "markdown",
      "id": "5b28ea53-ba4c-4b47-9b97-4eecdfef7913",
      "metadata": {
        "id": "5b28ea53-ba4c-4b47-9b97-4eecdfef7913"
      },
      "source": [
        "Из графиков ЭФР и гистограммы можно заключить, что мы имеем либо геометрическое распределение, либо экспоненциальное. Однако в силу того, что значения случайной выборки не дискретны, то среди геометрического и экспоненциального распределения мы выбираем экспоненциальное в силу того, что это непрерывное распределение (а не дискретное, как геометрическое)."
      ]
    },
    {
      "cell_type": "markdown",
      "id": "4ef1a3df-234c-42d8-abdd-ff69a2703094",
      "metadata": {
        "id": "4ef1a3df-234c-42d8-abdd-ff69a2703094"
      },
      "source": [
        "Таким образом, распределение, из которого пришла выборка $Y$, задается с помощью плотности\n",
        "распределения\n",
        "$$p_\\xi(x,\\theta) = \\begin{cases} \\theta\\cdot e^{\\theta x},\\ x \\geqslant 0,\\\\ 0,\\ x<0.\\end{cases}$$\n",
        "Тогда мы можем составить функцию правдоподобия для $x_k\\geq 0$\n",
        "$$L(X,\\theta) = \\prod_{i=1}^n \\theta\\cdot e^{\\theta x_i} = \\theta^n\\cdot e^{-\\theta \\sum\\limits_{i=1}^n x_i}.$$\n",
        "Исследовать на экстремум эту функцию сложно, поэтому мы упростим ее,\n",
        "взяв логарифм от функции правдоподобия,\n",
        "$$\\ln L(X, \\theta) = n\\ln \\theta - \\theta\\sum\\limits_{i=1}^n x_i.$$\n",
        "Возьмем от этой функции производную по $\\theta$ и получим\n",
        "$$\\dfrac{\\partial\\ln L(X, \\theta)}{\\partial\\theta}= \\dfrac n \\theta - \\sum\\limits_{i=1}^n x_i.$$\n",
        "Приравниваем эту производную к нулю, чтобы найти нужную нам оценку\n",
        "$$\\dfrac n \\theta - \\sum\\limits_{i=1}^n x_i = 0,$$ тогда\n",
        "$$\\dfrac 1 \\theta= \\dfrac 1 n \\sum\\limits_{i=1}^nx_i.$$ Таким образом, мы\n",
        "построили оценку параметра $\\theta$, и она обратна выборочному среднему."
      ]
    },
    {
      "cell_type": "code",
      "execution_count": null,
      "id": "c25b9fc6-6cf7-4061-b469-b477772e40ae",
      "metadata": {
        "id": "c25b9fc6-6cf7-4061-b469-b477772e40ae",
        "outputId": "f6f9c1ae-8d78-436f-fe57-4b650c93a281"
      },
      "outputs": [
        {
          "data": {
            "text/plain": [
              "0.14324641779784097"
            ]
          },
          "execution_count": 207,
          "metadata": {},
          "output_type": "execute_result"
        }
      ],
      "source": [
        "theta = 1 / Y.mean()\n",
        "theta"
      ]
    },
    {
      "cell_type": "markdown",
      "id": "28c0d20e-fa43-4bc0-9e83-adc80ba5e7f6",
      "metadata": {
        "id": "28c0d20e-fa43-4bc0-9e83-adc80ba5e7f6"
      },
      "source": [
        "В итоге случайная выборка $Y$ была получена из экспоненциального распределения с параметром $\\approx 0.14$."
      ]
    },
    {
      "cell_type": "markdown",
      "id": "7d596de8-1c81-47c6-b344-3d5a062934e9",
      "metadata": {
        "id": "7d596de8-1c81-47c6-b344-3d5a062934e9"
      },
      "source": [
        "Однако это не весь жизненный цикл задачи математической статистики. Следующий этап -- оценка доверительного интервала и проверка гипотез, чтобы убедится в том, что оценка была построена правильно."
      ]
    }
  ],
  "metadata": {
    "kernelspec": {
      "display_name": "Python 3 (ipykernel)",
      "language": "python",
      "name": "python3"
    },
    "language_info": {
      "codemirror_mode": {
        "name": "ipython",
        "version": 3
      },
      "file_extension": ".py",
      "mimetype": "text/x-python",
      "name": "python",
      "nbconvert_exporter": "python",
      "pygments_lexer": "ipython3",
      "version": "3.12.3"
    },
    "colab": {
      "provenance": [],
      "toc_visible": true,
      "include_colab_link": true
    }
  },
  "nbformat": 4,
  "nbformat_minor": 5
}